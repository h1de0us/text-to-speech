{
 "cells": [
  {
   "cell_type": "code",
   "execution_count": 9,
   "metadata": {},
   "outputs": [],
   "source": [
    "from hw_tts.model import FastSpeech\n",
    "\n",
    "model = FastSpeech(\n",
    "     max_seq_len = 3000,\n",
    "     encoder_n_layer = 4,\n",
    "     decoder_n_layer = 4,\n",
    "     vocab_size = 300,\n",
    "     encoder_dim = 256,\n",
    "     decoder_dim = 256,\n",
    "     pad_idx = 0,\n",
    "     encoder_conv1d_filter_size = 1024,\n",
    "     encoder_n_head = 2,\n",
    "     decoder_conv1d_filter_size = 1024,\n",
    "     decoder_n_head = 2,\n",
    "     num_mels = 80,\n",
    "     dropout = 0.1\n",
    "     )"
   ]
  },
  {
   "cell_type": "code",
   "execution_count": 7,
   "metadata": {},
   "outputs": [
    {
     "name": "stdout",
     "output_type": "stream",
     "text": [
      "The autoreload extension is already loaded. To reload it, use:\n",
      "  %reload_ext autoreload\n"
     ]
    }
   ],
   "source": [
    "%load_ext autoreload\n",
    "%autoreload 2"
   ]
  },
  {
   "cell_type": "code",
   "execution_count": null,
   "metadata": {},
   "outputs": [],
   "source": []
  },
  {
   "cell_type": "code",
   "execution_count": null,
   "metadata": {},
   "outputs": [],
   "source": []
  }
 ],
 "metadata": {
  "kernelspec": {
   "display_name": "text-to-speech",
   "language": "python",
   "name": "python3"
  },
  "language_info": {
   "codemirror_mode": {
    "name": "ipython",
    "version": 3
   },
   "file_extension": ".py",
   "mimetype": "text/x-python",
   "name": "python",
   "nbconvert_exporter": "python",
   "pygments_lexer": "ipython3",
   "version": "3.9.18"
  },
  "orig_nbformat": 4,
  "vscode": {
   "interpreter": {
    "hash": "f70e4aa8ac2e49e6d90685437c1229b748252750ad8d97e431e4a8c3ed8fcafb"
   }
  }
 },
 "nbformat": 4,
 "nbformat_minor": 2
}
